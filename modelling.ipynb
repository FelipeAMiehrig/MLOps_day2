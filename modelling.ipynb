{
  "cells": [
    {
      "cell_type": "markdown",
      "metadata": {
        "id": "view-in-github",
        "colab_type": "text"
      },
      "source": [
        "<a href=\"https://colab.research.google.com/github/FelipeAMiehrig/MLOps_day2/blob/master/modelling.ipynb\" target=\"_parent\"><img src=\"https://colab.research.google.com/assets/colab-badge.svg\" alt=\"Open In Colab\"/></a>"
      ]
    },
    {
      "cell_type": "code",
      "execution_count": null,
      "metadata": {
        "id": "71-UDds3iMWj"
      },
      "outputs": [],
      "source": [
        "import numpy as np\n",
        "import pandas as pd\n",
        "import matplotlib.pyplot as plt\n",
        "import plotly.express as px\n",
        "import datetime\n",
        "import arviz as az\n",
        "az.style.use(\"arviz-darkgrid\")\n",
        "import random\n",
        "\n",
        "random.seed(10)"
      ]
    },
    {
      "cell_type": "code",
      "source": [
        "!pip install -U -q PyDrive\n",
        "from pydrive.auth import GoogleAuth\n",
        "from pydrive.drive import GoogleDrive\n",
        "from google.colab import auth\n",
        "from oauth2client.client import GoogleCredentials\n",
        "# Authenticate and create the PyDrive client.\n",
        "auth.authenticate_user()\n",
        "gauth = GoogleAuth()\n",
        "gauth.credentials = GoogleCredentials.get_application_default()\n",
        "drive = GoogleDrive(gauth)"
      ],
      "metadata": {
        "id": "vQNfCV0YPikl"
      },
      "execution_count": null,
      "outputs": []
    },
    {
      "cell_type": "code",
      "source": [
        "link = 'https://drive.google.com/file/d/1rwc63vMSOJ9IT5Cuzzb9HKK_PCpoRHoI/view?usp=sharing'\n",
        "fluff, id = link.split('=')\n",
        "print (id) # Verify that you have everything after '='\n",
        "downloaded = drive.CreateFile({'id':'1rwc63vMSOJ9IT5Cuzzb9HKK_PCpoRHoI'}) \n",
        "downloaded.GetContentFile('df_with_cluster_weatherstack.csv')  \n",
        "df = pd.read_csv('df_with_cluster_weatherstack.csv', index_col = 0,  parse_dates= ['created_at',\t'finished_at'])\n",
        "# Dataset is now stored in a Pandas Dataframe"
      ],
      "metadata": {
        "id": "CoxvegQ1PlXf"
      },
      "execution_count": null,
      "outputs": []
    },
    {
      "cell_type": "code",
      "source": [
        "gpu_info = !nvidia-smi\n",
        "gpu_info = '\\n'.join(gpu_info)\n",
        "if gpu_info.find('failed') >= 0:\n",
        "  print('Not connected to a GPU')\n",
        "else:\n",
        "  print(gpu_info)"
      ],
      "metadata": {
        "id": "7fpGFLtlUXy-"
      },
      "execution_count": null,
      "outputs": []
    },
    {
      "cell_type": "code",
      "execution_count": null,
      "metadata": {
        "id": "rM4_-oF3iRW9"
      },
      "outputs": [],
      "source": [
        "!pip install numpyro"
      ]
    },
    {
      "cell_type": "code",
      "execution_count": null,
      "metadata": {
        "id": "CgcaC8YriSu0"
      },
      "outputs": [],
      "source": [
        "df = pd.read_csv('df_with_cluster_weatherstack.csv', index_col = 0,  parse_dates= ['created_at',\t'finished_at'])\n",
        "df.pop(df.columns[0])"
      ]
    },
    {
      "cell_type": "code",
      "execution_count": null,
      "metadata": {
        "id": "jK_lr33wrs7L"
      },
      "outputs": [],
      "source": [
        "df.columns"
      ]
    },
    {
      "cell_type": "markdown",
      "source": [
        "## some feature engineering"
      ],
      "metadata": {
        "id": "V_Av6H7DVGuB"
      }
    },
    {
      "cell_type": "code",
      "execution_count": null,
      "metadata": {
        "id": "AzOJKF5OsiGp"
      },
      "outputs": [],
      "source": [
        "df['weekday'] = df['created_at'].apply(lambda x: x.weekday()).astype('category')\n",
        "df['seconds_day'] = df['created_at'].apply(lambda x: x.hour*60*60 + x.minute*60+x.second)\n",
        "seconds_in_day = 24*60*60\n",
        "df['hourday'] = df['created_at'].apply(lambda x: x.hour)\n",
        "df['timeday'] = df['hourday'].apply(lambda x: 0 if x < 12 else (1 if x < 18 else 3)).astype('category')\n",
        "df['rain'] = df['prcp'].apply(lambda x: 1 if x > 0 else 0)\n",
        "df['rain2'] = df['precip'].apply(lambda x: 1 if x > 0 else 0)\n",
        "df['snow'] = df.snow.apply(lambda x: x if x==x else 0)\n",
        "df['daymonth'] = df['created_at'].apply(lambda x: x.day)\n",
        "df['weekday_cont'] = df['created_at'].apply(lambda x: x.weekday()+1)\n",
        "df['weekday_hour'] = df['created_at'].apply(lambda x: (x.weekday())*24 + x.hour)\n",
        "df['weekday_hour_sin'] = np.sin(2*np.pi*df['weekday_hour']/(24*7))\n",
        "df['weekday_hour_cos'] = np.cos(2*np.pi*df['weekday_hour']/(24*7))"
      ]
    },
    {
      "cell_type": "code",
      "source": [
        "import math\n",
        "\n",
        "def map_coordinates(abbreviation, radius):\n",
        "    coordinates = {\n",
        "        'N': (0, radius),\n",
        "        'NNE': (math.sin(math.pi / 8) * radius, math.cos(math.pi / 8) * radius),\n",
        "        'NE': (math.sin(math.pi / 4) * radius, math.cos(math.pi / 4) * radius),\n",
        "        'ENE': (math.sin(3 * math.pi / 8) * radius, math.cos(3 * math.pi / 8) * radius),\n",
        "        'E': (radius, 0),\n",
        "        'ESE': (math.sin(5 * math.pi / 8) * radius, -math.cos(5 * math.pi / 8) * radius),\n",
        "        'SE': (math.sin(3 * math.pi / 4) * radius, -math.cos(3 * math.pi / 4) * radius),\n",
        "        'SSE': (math.sin(7 * math.pi / 8) * radius, -math.cos(7 * math.pi / 8) * radius),\n",
        "        'S': (0, -radius),\n",
        "        'SSW': (-math.sin(7 * math.pi / 8) * radius, -math.cos(7 * math.pi / 8) * radius),\n",
        "        'SW': (-math.sin(3 * math.pi / 4) * radius, -math.cos(3 * math.pi / 4) * radius),\n",
        "        'WSW': (-math.sin(5 * math.pi / 8) * radius, -math.cos(5 * math.pi / 8) * radius),\n",
        "        'W': (-radius, 0),\n",
        "        'WNW': (-math.sin(3 * math.pi / 8) * radius, math.cos(3 * math.pi / 8) * radius),\n",
        "        'NW': (-math.sin(math.pi / 4) * radius, math.cos(math.pi / 4) * radius),\n",
        "        'NNW': (-math.sin(math.pi / 8) * radius, math.cos(math.pi / 8) * radius)\n",
        "    }\n",
        "\n",
        "    return coordinates.get(abbreviation, (0, 0))"
      ],
      "metadata": {
        "id": "xKbCNimH4aox"
      },
      "execution_count": null,
      "outputs": []
    },
    {
      "cell_type": "code",
      "source": [
        "radius_sin = df.wind_dir.apply(lambda x: map_coordinates(x,1)[0])\n",
        "radius_cos = df.wind_dir.apply(lambda x: map_coordinates(x,1)[1])\n",
        "df['radius_sin_wind_dir'] = radius_sin\n",
        "df['radius_cos_wind_dir'] = radius_cos"
      ],
      "metadata": {
        "id": "fflO1wPv4b2C"
      },
      "execution_count": null,
      "outputs": []
    },
    {
      "cell_type": "code",
      "execution_count": null,
      "metadata": {
        "id": "yxK9sTcqm3XK"
      },
      "outputs": [],
      "source": [
        "def sample(df, column, random_state = 42): \n",
        "  classes = list(set(df[column].values))\n",
        "  if len(df[df[column]==classes[0]]) < len(df[df[column]==classes[1]]):\n",
        "    minority_class = classes[0]\n",
        "    majority_class = classes[1]\n",
        "  else: \n",
        "    minority_class = classes[1]\n",
        "    majority_class = classes[0]\n",
        "  minority_df = df[df[column]==minority_class]\n",
        "  n_min = len(minority_df)\n",
        "  majority_df  = df[df[column]==majority_class].sample(n= n_min, random_state=random_state)\n",
        "  balanced_df = pd.concat([minority_df, majority_df]).sample(frac=1, random_state=random_state).reset_index(drop=True)\n",
        "  return balanced_df\n"
      ]
    },
    {
      "cell_type": "code",
      "execution_count": null,
      "metadata": {
        "id": "_sCs2g3roj62"
      },
      "outputs": [],
      "source": [
        "sampled_df = sample(df, 'vehicle_type')"
      ]
    },
    {
      "cell_type": "code",
      "source": [],
      "metadata": {
        "id": "Wzjyxtp_VCfY"
      },
      "execution_count": null,
      "outputs": []
    },
    {
      "cell_type": "markdown",
      "source": [
        "## checking dataset"
      ],
      "metadata": {
        "id": "TbbKlP9OVCvo"
      }
    },
    {
      "cell_type": "code",
      "source": [
        "plt.hist(sampled_df.vehicle_type)\n",
        "plt.title('final_df')\n",
        "plt.show()"
      ],
      "metadata": {
        "id": "xcjCmanOjOUx"
      },
      "execution_count": null,
      "outputs": []
    },
    {
      "cell_type": "code",
      "execution_count": null,
      "metadata": {
        "id": "SlPlvrwHi4Y7"
      },
      "outputs": [],
      "source": [
        "grouped = sampled_df.groupby('cluster').count()[['member_type']].sort_values(by='member_type',ascending=False)"
      ]
    },
    {
      "cell_type": "code",
      "source": [
        "grouped.hist(bins=30)"
      ],
      "metadata": {
        "id": "vXlj00arhygh"
      },
      "execution_count": null,
      "outputs": []
    },
    {
      "cell_type": "code",
      "execution_count": null,
      "metadata": {
        "id": "gXVi3NZ3mPoo"
      },
      "outputs": [],
      "source": [
        "fig = px.scatter_mapbox(df, lat=\"user_location_latitude\", lon=\"user_location_longitude\", hover_name=\"minutes\", hover_data=[ 'cluster_departure'],\n",
        "                        color_discrete_sequence=[\"fuchsia\"], zoom=3, height=300)\n",
        "fig.update_layout(mapbox_style=\"open-street-map\")\n",
        "fig.update_layout(margin={\"r\":0,\"t\":0,\"l\":0,\"b\":0})\n",
        "fig.show()\n",
        "fig.show()"
      ]
    },
    {
      "cell_type": "markdown",
      "source": [
        "## trying logistic regression via frequentist approach"
      ],
      "metadata": {
        "id": "7p5f14jtU61Z"
      }
    },
    {
      "cell_type": "code",
      "source": [
        "df.columns"
      ],
      "metadata": {
        "id": "45cTr9xHj5tu"
      },
      "execution_count": null,
      "outputs": []
    },
    {
      "cell_type": "code",
      "execution_count": null,
      "metadata": {
        "id": "-CQIL40qpiwR"
      },
      "outputs": [],
      "source": [
        "\n",
        "# importing libraries\n",
        "import statsmodels.api as sm\n",
        "from statsmodels.formula.api import logit\n",
        "\n",
        "sampled_df['vehicle_binary'] = (sampled_df[\"vehicle_type\"] != 'bike').astype(float)\n",
        "# building the model and fitting the data\n",
        "logistic = logit( \"vehicle_binary ~ member_type + precip+feelslike+ wind_speed  + kilometers +cloudcover+ uv_index+  radius_sin_wind_dir + radius_cos_wind_dir+humidity+weekday_hour_sin + weekday_hour_cos\", sampled_df).fit()"
      ]
    },
    {
      "cell_type": "code",
      "execution_count": null,
      "metadata": {
        "id": "JVTBtzBuvxkW"
      },
      "outputs": [],
      "source": [
        "\n",
        "print(logistic.summary())"
      ]
    },
    {
      "cell_type": "code",
      "source": [
        "x = np.arange(0,24*7+1,1)\n",
        "\n",
        "sinus = np.array([np.sin(2*np.pi*i/(24*7)) for i in x])\n",
        "cosinus =  np.array([np.cos(2*np.pi*i/(24*7)) for i in x])\n",
        "sincos = 0.0987*sinus -0.2114*cosinus\n",
        "plt.plot(x, sincos)\n",
        "plt.show()"
      ],
      "metadata": {
        "id": "fAtMA6Sa0Cb1"
      },
      "execution_count": null,
      "outputs": []
    },
    {
      "cell_type": "code",
      "execution_count": null,
      "metadata": {
        "id": "1ZkcHUdAt3pv"
      },
      "outputs": [],
      "source": [
        "!pip install jax"
      ]
    },
    {
      "cell_type": "code",
      "execution_count": null,
      "metadata": {
        "id": "WcUa4DAhtoxv"
      },
      "outputs": [],
      "source": [
        "import jax.numpy as jnp\n",
        "from jax import nn, random, vmap\n",
        "from jax.scipy.special import expit\n",
        "\n",
        "import numpyro\n",
        "import numpyro.distributions as dist\n",
        "import numpyro.optim as optim\n",
        "from numpyro.diagnostics import print_summary\n",
        "from numpyro.infer import MCMC, NUTS, Predictive, SVI, Trace_ELBO, log_likelihood\n",
        "from numpyro.infer.autoguide import AutoLaplaceApproximation"
      ]
    },
    {
      "cell_type": "code",
      "execution_count": null,
      "metadata": {
        "id": "Bu6UudYdyJvg"
      },
      "outputs": [],
      "source": [
        "from sklearn.preprocessing import OrdinalEncoder"
      ]
    },
    {
      "cell_type": "code",
      "execution_count": null,
      "metadata": {
        "id": "DseaKgzUhLW9"
      },
      "outputs": [],
      "source": [
        "sampled_df = sampled_df.dropna()"
      ]
    },
    {
      "cell_type": "markdown",
      "source": [
        "## getting rid of clusters with zero observations due to resampling and relabeling them"
      ],
      "metadata": {
        "id": "eEbghfDwUyQd"
      }
    },
    {
      "cell_type": "code",
      "source": [
        "sampled_df.sort_values('cluster')"
      ],
      "metadata": {
        "id": "OuXlFPwhcyOq"
      },
      "execution_count": null,
      "outputs": []
    },
    {
      "cell_type": "code",
      "source": [
        "old_cluster = sampled_df.groupby('cluster').count().index.values\n",
        "cluster_to_join = pd.DataFrame({'old_cluster':old_cluster, 'new_cluster':np.arange(0,len(old_cluster))})\n",
        "sampled_df = sampled_df.merge(cluster_to_join, how='inner', left_on='cluster', right_on='old_cluster')"
      ],
      "metadata": {
        "id": "tVyn4YjldZnK"
      },
      "execution_count": null,
      "outputs": []
    },
    {
      "cell_type": "code",
      "source": [
        "cluster_to_join"
      ],
      "metadata": {
        "id": "1dzKLgezjCRj"
      },
      "execution_count": null,
      "outputs": []
    },
    {
      "cell_type": "code",
      "source": [
        "import multiprocessing\n",
        "multiprocessing.cpu_count()\n",
        "num_chains = multiprocessing.cpu_count() "
      ],
      "metadata": {
        "id": "U2DH9qXnXa_h"
      },
      "execution_count": null,
      "outputs": []
    },
    {
      "cell_type": "markdown",
      "source": [
        "## Logistic regression: Member type"
      ],
      "metadata": {
        "id": "OXS-67554jtF"
      }
    },
    {
      "cell_type": "code",
      "execution_count": null,
      "metadata": {
        "id": "paovnZubhS4m"
      },
      "outputs": [],
      "source": [
        "dat_list = dict(\n",
        "    vehicle = (sampled_df[\"vehicle_type\"] != 'bike').astype(float).values,\n",
        "    member_type = OrdinalEncoder().fit_transform(sampled_df.member_type.values.reshape(-1,1)).reshape(-1).astype(int)\n",
        ")\n",
        "\n",
        "def model(member_type, vehicle=None):\n",
        "    a = numpyro.sample(\"a\", dist.Normal(0, 1.5).expand([3]))\n",
        "    logit_p = a[member_type]\n",
        "    numpyro.sample(\"vehicle\", dist.Bernoulli(logits=logit_p), obs=vehicle)\n",
        "\n",
        "m1 = MCMC(NUTS(model), num_warmup =1000, num_samples=2000, num_chains = 4)\n",
        "m1.run(random.PRNGKey(0), vehicle=dat_list['vehicle'], member_type = dat_list['member_type'])\n",
        "m1.print_summary(0.95)"
      ]
    },
    {
      "cell_type": "code",
      "source": [
        "az.plot_pair(az.from_numpyro(m1))\n",
        "plt.show()"
      ],
      "metadata": {
        "id": "GPDeJH1NNFdD"
      },
      "execution_count": null,
      "outputs": []
    },
    {
      "cell_type": "code",
      "execution_count": null,
      "metadata": {
        "id": "GMCbHce5h5pu"
      },
      "outputs": [],
      "source": [
        "az.plot_trace(az.from_numpyro(m1))\n",
        "plt.show()"
      ]
    },
    {
      "cell_type": "code",
      "execution_count": null,
      "metadata": {
        "id": "E56ZAANGh-Me"
      },
      "outputs": [],
      "source": [
        "az.plot_rank(az.from_numpyro(m1))\n",
        "plt.show()"
      ]
    },
    {
      "cell_type": "markdown",
      "source": [
        "## Logistic Regression: member type and weekday"
      ],
      "metadata": {
        "id": "6Ezs5hC_4qFU"
      }
    },
    {
      "cell_type": "code",
      "source": [
        "\n",
        "dat_list = dict(\n",
        "    vehicle = (sampled_df[\"vehicle_type\"] != 'bike').astype(float).values,\n",
        "    member_type = OrdinalEncoder().fit_transform(sampled_df.member_type.values.reshape(-1,1)).reshape(-1).astype(int),\n",
        "    weekday_hour_sin = sampled_df.weekday_hour_sin.values,\n",
        "    weekday_hour_cos = sampled_df.weekday_hour_cos.values\n",
        "\n",
        ")\n",
        "\n",
        "\n",
        "\n",
        "def model2(member_type, weekday_hour_sin,weekday_hour_cos , vehicle=None):\n",
        "    a = numpyro.sample(\"a\", dist.Normal(0, 0.5).expand([3]))\n",
        "    bweekday_sin = numpyro.sample(\"bweekdaysin\", dist.Normal(0, 0.5))\n",
        "    bweekday_cos = numpyro.sample(\"bweekdaycos\", dist.Normal(0, 0.5))\n",
        "    logit_p =  bweekday_sin*weekday_hour_sin + bweekday_cos*weekday_hour_cos  + a[member_type]\n",
        "    numpyro.sample(\"vehicle\", dist.Bernoulli(logits=logit_p), obs=vehicle)\n",
        "\n",
        "m2 = MCMC(NUTS(model2), num_warmup =1000, num_samples=2000, num_chains = 4)\n",
        "m2.run(random.PRNGKey(0), **dat_list)\n",
        "m2.print_summary(0.95)"
      ],
      "metadata": {
        "id": "6gH-syHCNDcJ"
      },
      "execution_count": null,
      "outputs": []
    },
    {
      "cell_type": "code",
      "source": [
        "az.plot_rank(az.from_numpyro(m2))\n",
        "plt.show()"
      ],
      "metadata": {
        "id": "-ou4OPObTKpt"
      },
      "execution_count": null,
      "outputs": []
    },
    {
      "cell_type": "code",
      "source": [
        "az.plot_trace(az.from_numpyro(m2))\n",
        "plt.show()"
      ],
      "metadata": {
        "id": "HsNOlv8vOAGG"
      },
      "execution_count": null,
      "outputs": []
    },
    {
      "cell_type": "code",
      "source": [
        "m11_2 = AutoLaplaceApproximation(model2)\n",
        "svi = SVI(\n",
        "    model2,\n",
        "    m11_2,\n",
        "    optim.Adam(1),\n",
        "    Trace_ELBO(),\n",
        "    **dat_list\n",
        ")\n",
        "svi_result = svi.run(random.PRNGKey(0), 1000)\n",
        "p11_2 = svi_result.params"
      ],
      "metadata": {
        "id": "qYkWYBBtOdxH"
      },
      "execution_count": null,
      "outputs": []
    },
    {
      "cell_type": "code",
      "source": [
        "p11_2"
      ],
      "metadata": {
        "id": "8-EBlXr8QOpl"
      },
      "execution_count": null,
      "outputs": []
    },
    {
      "cell_type": "markdown",
      "source": [
        "##Logistic Regression: member type, temperature and wind speed"
      ],
      "metadata": {
        "id": "6HIKFmMP4uiL"
      }
    },
    {
      "cell_type": "code",
      "source": [
        "dat_list = dict(\n",
        "    vehicle = (sampled_df[\"vehicle_type\"] != 'bike').astype(float).values,\n",
        "    member_type = OrdinalEncoder().fit_transform(sampled_df.member_type.values.reshape(-1,1)).reshape(-1).astype(int),\n",
        "    feelslike = sampled_df.feelslike.values,\n",
        "    wind_speed = sampled_df.wind_speed.values,\n",
        "    weekday_hour_sin = sampled_df.weekday_hour_sin.values,\n",
        "    weekday_hour_cos = sampled_df.weekday_hour_cos.values\n",
        ")\n",
        "\n",
        "def model3(member_type, weekday_hour_sin,weekday_hour_cos ,feelslike, wind_speed, vehicle=None):\n",
        "    a = numpyro.sample(\"a\", dist.Normal(0, 1.5).expand([3]))\n",
        "    #aweekday = numpyro.sample(\"aweekday\", dist.Normal(0, 0.5).expand([7]))\n",
        "    bfeels  = numpyro.sample(\"bfeels\", dist.Normal(0, 0.5))\n",
        "    bwspd  = numpyro.sample(\"bwspd\", dist.Normal(0, 0.5))\n",
        "    bweekday_sin = numpyro.sample(\"bweekdaysin\", dist.Normal(0, 0.5))\n",
        "    bweekday_cos = numpyro.sample(\"bweekdaycos\", dist.Normal(0, 0.5))\n",
        "    logit_p =   a[member_type] + bwspd*wind_speed + bfeels*feelslike + bweekday_sin*weekday_hour_sin + bweekday_cos*weekday_hour_cos\n",
        "    numpyro.sample(\"vehicle\", dist.Bernoulli(logits=logit_p), obs=vehicle)\n",
        "\n",
        "m3 = MCMC(NUTS(model3), num_warmup =1000, num_samples=2000, num_chains = 4)\n",
        "m3.run(random.PRNGKey(0), **dat_list)\n",
        "m3.print_summary(0.95)"
      ],
      "metadata": {
        "id": "y66R48ArQQHl"
      },
      "execution_count": null,
      "outputs": []
    },
    {
      "cell_type": "code",
      "source": [
        "az.plot_trace(az.from_numpyro(m3))\n",
        "plt.show()"
      ],
      "metadata": {
        "id": "G7J6Hz2dbx8M"
      },
      "execution_count": null,
      "outputs": []
    },
    {
      "cell_type": "code",
      "source": [],
      "metadata": {
        "id": "4NHnnJpNTgYX"
      },
      "execution_count": null,
      "outputs": []
    },
    {
      "cell_type": "code",
      "source": [
        "az.plot_rank(az.from_numpyro(m3))\n",
        "plt.show()"
      ],
      "metadata": {
        "id": "YVP2Ne4xdbnA"
      },
      "execution_count": null,
      "outputs": []
    },
    {
      "cell_type": "code",
      "source": [
        "m11_2 = AutoLaplaceApproximation(model3)\n",
        "svi = SVI(\n",
        "    model3,\n",
        "    m11_2,\n",
        "    optim.Adam(1),\n",
        "    Trace_ELBO(),\n",
        "    **dat_list\n",
        ")\n",
        "svi_result = svi.run(random.PRNGKey(0), 1000)\n",
        "p11_2 = svi_result.params"
      ],
      "metadata": {
        "id": "n2A20ESHde9i"
      },
      "execution_count": null,
      "outputs": []
    },
    {
      "cell_type": "code",
      "source": [
        "numpyro.util.set_platform('gpu')"
      ],
      "metadata": {
        "id": "eGXCy0k0nQSL"
      },
      "execution_count": null,
      "outputs": []
    },
    {
      "cell_type": "code",
      "source": [
        "from jax.lib import xla_bridge\n",
        "print(xla_bridge.get_backend().platform)"
      ],
      "metadata": {
        "id": "chYGTEZQdmGy"
      },
      "execution_count": null,
      "outputs": []
    },
    {
      "cell_type": "markdown",
      "source": [
        "## Logitisc regression: member type, temperature, wind speed, kilometers ridden, travel time, rain"
      ],
      "metadata": {
        "id": "C2kDoQUE42XG"
      }
    },
    {
      "cell_type": "code",
      "source": [
        "dat_list = dict(\n",
        "    vehicle = (sampled_df[\"vehicle_type\"] != 'bike').astype(float).values,\n",
        "    member_type = OrdinalEncoder().fit_transform(sampled_df.member_type.values.reshape(-1,1)).reshape(-1).astype(int),\n",
        "    feelslike = sampled_df.feelslike.values,\n",
        "    wind_speed = sampled_df.wind_speed.values,\n",
        "    km = sampled_df.kilometers.values,\n",
        "    cloudcover = sampled_df.cloudcover.values,\n",
        "    uv_index = sampled_df.uv_index.values,\n",
        "    humidity = sampled_df.humidity.values,\n",
        "    precip = sampled_df.precip.values,\n",
        "    weekday_hour_sin = sampled_df.weekday_hour_sin.values,\n",
        "    weekday_hour_cos = sampled_df.weekday_hour_cos.values,\n",
        "    mahalanobis_dist = sampled_df.mahalanobis_dist.values\n",
        "\n",
        ")\n",
        "\n",
        "\n",
        "def model4(member_type, weekday_hour_sin, weekday_hour_cos,feelslike, wind_speed,km, precip, humidity, cloudcover, uv_index,mahalanobis_dist, vehicle=None):\n",
        "    a = numpyro.sample(\"a\", dist.Normal(0, 1.5).expand([3]))\n",
        "    #aweekday = numpyro.sample(\"aweekday\", dist.Normal(0, 0.5).expand([2]))\n",
        "    bfeels  = numpyro.sample(\"bfeels\", dist.Normal(0, 0.5))\n",
        "    bwspd  = numpyro.sample(\"bwspd\", dist.Normal(0, 0.5))\n",
        "    bkm  = numpyro.sample(\"bkm\", dist.Normal(0, 0.5))\n",
        "    brain  = numpyro.sample(\"brain\", dist.Normal(0, 0.5))\n",
        "    bhum  = numpyro.sample(\"bhum\", dist.Normal(0, 0.5))\n",
        "    buv  = numpyro.sample(\"buv\", dist.Normal(0, 0.5))\n",
        "    bcloud  = numpyro.sample(\"bcloud\", dist.Normal(0, 0.5))\n",
        "    bdist = numpyro.sample(\"bdist\", dist.Normal(0, 0.5))\n",
        "    bweekday_sin = numpyro.sample(\"bweekdaysin\", dist.Normal(0, 0.5))\n",
        "    bweekday_cos = numpyro.sample(\"bweekdaycos\", dist.Normal(0, 0.5))\n",
        "    logit_p =  a[member_type] + bwspd*wind_speed + bfeels*feelslike + bkm*km + + brain*precip + bcloud*cloudcover + buv*uv_index +bhum*humidity + bdist* mahalanobis_dist + bweekday_sin*weekday_hour_sin + bweekday_cos*weekday_hour_cos\n",
        "    numpyro.sample(\"vehicle\", dist.Bernoulli(logits=logit_p), obs=vehicle)\n",
        "\n",
        "m4 = MCMC(NUTS(model4), num_warmup =1000, num_samples=2000, num_chains = 4)\n",
        "m4.run(random.PRNGKey(0), **dat_list)\n",
        "m4.print_summary(0.95)"
      ],
      "metadata": {
        "id": "lBZ0nRmidoAa"
      },
      "execution_count": null,
      "outputs": []
    },
    {
      "cell_type": "markdown",
      "source": [],
      "metadata": {
        "id": "0stAEdgggabA"
      }
    },
    {
      "cell_type": "code",
      "source": [
        "az.plot_trace(az.from_numpyro(m4))\n",
        "plt.show()"
      ],
      "metadata": {
        "id": "0uFpa-bbesQt"
      },
      "execution_count": null,
      "outputs": []
    },
    {
      "cell_type": "code",
      "source": [
        "az.plot_pair(az.from_numpyro(m4))\n",
        "plt.show()"
      ],
      "metadata": {
        "id": "G7DNSeJ5YOeV"
      },
      "execution_count": null,
      "outputs": []
    },
    {
      "cell_type": "code",
      "source": [
        "az.plot_rank(az.from_numpyro(m4))\n",
        "plt.show()"
      ],
      "metadata": {
        "id": "8eRAHa_IgP1z"
      },
      "execution_count": null,
      "outputs": []
    },
    {
      "cell_type": "code",
      "source": [
        "m11_2 = AutoLaplaceApproximation(model4)\n",
        "svi = SVI(\n",
        "    model4,\n",
        "    m11_2,\n",
        "    optim.Adam(1),\n",
        "    Trace_ELBO(),\n",
        "    **dat_list\n",
        ")\n",
        "svi_result = svi.run(random.PRNGKey(0), 1000)\n",
        "p11_2 = svi_result.params\n",
        "p11_2"
      ],
      "metadata": {
        "id": "HB2ocuvogKJE"
      },
      "execution_count": null,
      "outputs": []
    },
    {
      "cell_type": "code",
      "source": [
        " np.array(list(set(sampled_df['new_cluster'].values.astype(int))))"
      ],
      "metadata": {
        "id": "yzGzbMRcsZD4"
      },
      "execution_count": null,
      "outputs": []
    },
    {
      "cell_type": "markdown",
      "source": [
        "## fixed effect: intercept for each cluster\n",
        "\n",
        "\n",
        "\n"
      ],
      "metadata": {
        "id": "uilZpfV5pr0o"
      }
    },
    {
      "cell_type": "code",
      "source": [
        "dat_list = dict(\n",
        "    vehicle = (sampled_df[\"vehicle_type\"] != 'bike').astype(float).values,\n",
        "    cluster = sampled_df['new_cluster'].values.astype(int)\n",
        ")\n",
        "\n",
        "def model5(cluster, vehicle=None):\n",
        "    a = numpyro.sample(\"a\", dist.Normal(0, 1.5), sample_shape= np.array(list(set(cluster))).shape)\n",
        "    logit_p = a[cluster]\n",
        "    numpyro.sample(\"vehicle\", dist.Bernoulli(logits=logit_p), obs=vehicle)\n",
        "\n",
        "m5 = MCMC(NUTS(model5), num_warmup =1000, num_samples=2000, num_chains = 4)\n",
        "m5.run(random.PRNGKey(0), **dat_list)\n",
        "m5.print_summary(0.95)"
      ],
      "metadata": {
        "id": "yUzrZSzUpqio"
      },
      "execution_count": null,
      "outputs": []
    },
    {
      "cell_type": "code",
      "source": [
        "az.plot_trace(az.from_numpyro(m5))\n",
        "plt.show()"
      ],
      "metadata": {
        "id": "OV6UvoDirIUG"
      },
      "execution_count": null,
      "outputs": []
    },
    {
      "cell_type": "markdown",
      "source": [
        "## Random effect: Random intercept\n"
      ],
      "metadata": {
        "id": "DRgYhL9i4U1g"
      }
    },
    {
      "cell_type": "code",
      "source": [
        "dat_list = dict(\n",
        "    vehicle = (sampled_df[\"vehicle_type\"] != 'bike').astype(float).values,\n",
        "    cluster = sampled_df['new_cluster'].values.astype(int),\n",
        "    \n",
        ")\n",
        "\n",
        "def model6(cluster, vehicle=None):\n",
        "    a_bar = numpyro.sample(\"a_bar\", dist.Normal(0, 1.5))\n",
        "    sigma = numpyro.sample(\"sigma\", dist.Exponential(1))\n",
        "    a = numpyro.sample(\"a\", dist.Normal(a_bar, sigma), sample_shape= np.array(list(set(cluster))).shape)\n",
        "    logit_p = a[cluster]\n",
        "    numpyro.sample(\"vehicle\", dist.Bernoulli(logits=logit_p), obs=vehicle)\n",
        "\n",
        "m6 = MCMC(NUTS(model6), num_warmup =1000, num_samples=2000, num_chains = 4)\n",
        "m6.run(random.PRNGKey(0), **dat_list)\n",
        "m6.print_summary(0.95)"
      ],
      "metadata": {
        "id": "DAm-zkjVpqkr"
      },
      "execution_count": null,
      "outputs": []
    },
    {
      "cell_type": "code",
      "source": [
        "az.plot_trace(az.from_numpyro(m6))\n",
        "plt.show()"
      ],
      "metadata": {
        "id": "FFrbelI5u0lc"
      },
      "execution_count": null,
      "outputs": []
    },
    {
      "cell_type": "code",
      "source": [
        "az.compare(\n",
        "    {\"m5\": az.from_numpyro(m5), \"m6\": az.from_numpyro(m6)},\n",
        "    ic=\"waic\",\n",
        "    scale=\"deviance\",\n",
        ")"
      ],
      "metadata": {
        "id": "KdJI8YZZvefg"
      },
      "execution_count": null,
      "outputs": []
    },
    {
      "cell_type": "code",
      "source": [
        "post = m6.get_samples()"
      ],
      "metadata": {
        "id": "R2m5InBiyt86"
      },
      "execution_count": null,
      "outputs": []
    },
    {
      "cell_type": "code",
      "source": [
        "# show first 100 populations in the posterior\n",
        "plt.subplot(xlim=(-3, 4), ylim=(0, 0.6), xlabel=\"log-odds choice\", ylabel=\"Density\")\n",
        "for i in range(100):\n",
        "    x = jnp.linspace(-3, 4, 101)\n",
        "    plt.plot(\n",
        "        x,\n",
        "        jnp.exp(dist.Normal(post[\"a_bar\"][i], post[\"sigma\"][i]).log_prob(x)),\n",
        "        \"k\",\n",
        "        alpha=0.2,\n",
        "    )\n",
        "plt.show()\n",
        "\n",
        "# sample 8000 imaginary tanks from the posterior distribution\n",
        "idxs = random.randint(random.PRNGKey(1), (8000,), minval=0, maxval=1999)\n",
        "sim_choices = dist.Normal(post[\"a_bar\"][idxs], post[\"sigma\"][idxs]).sample(\n",
        "    random.PRNGKey(2)\n",
        ")\n",
        "\n",
        "# transform to probability and visualize\n",
        "az.plot_kde(expit(sim_choices), bw=0.3)\n",
        "plt.show()"
      ],
      "metadata": {
        "id": "lQMlFOO3ynTa"
      },
      "execution_count": null,
      "outputs": []
    },
    {
      "cell_type": "markdown",
      "source": [
        "##betaBinomial"
      ],
      "metadata": {
        "id": "QUVKMvqQuLGK"
      }
    },
    {
      "cell_type": "code",
      "source": [
        "dat_list = dict(\n",
        "    vehicle = (sampled_df[\"vehicle_type\"] != 'bike').astype(float).values,\n",
        "    member_type = OrdinalEncoder().fit_transform(sampled_df.member_type.values.reshape(-1,1)).reshape(-1).astype(int)\n",
        ")\n",
        "\n",
        "def model61(member_type, vehicle=None):\n",
        "    a = numpyro.sample(\"a\", dist.Normal(0, 1.5).expand([3]))\n",
        "    phi = numpyro.sample(\"phi\", dist.Exponential(1))\n",
        "    theta = numpyro.deterministic(\"theta\", phi + 2)\n",
        "    pbar = expit(a[member_type])\n",
        "    numpyro.sample(\"vehicle\", dist.BetaBinomial(pbar * theta, (1 - pbar) * theta, 1), obs=vehicle)\n",
        "\n",
        "m61 = MCMC(NUTS(model61), num_warmup =1000, num_samples=2000, num_chains = 4)\n",
        "m61.run(random.PRNGKey(0), **dat_list)\n",
        "m61.print_summary(0.95)"
      ],
      "metadata": {
        "id": "DSYdI7cLtqsz"
      },
      "execution_count": null,
      "outputs": []
    },
    {
      "cell_type": "code",
      "source": [
        "az.plot_trace(az.from_numpyro(m61))\n",
        "plt.show()"
      ],
      "metadata": {
        "id": "9vGwbVEbxXq8"
      },
      "execution_count": null,
      "outputs": []
    },
    {
      "cell_type": "code",
      "source": [
        "post = m61.get_samples()\n",
        "for gid in range(0,3):\n",
        "  # draw posterior mean beta distribution\n",
        "  x = jnp.linspace(0, 1, 101)\n",
        "  pbar = jnp.mean(expit(post[\"a\"][:, gid]))\n",
        "  theta = jnp.mean(post[\"theta\"])\n",
        "  plt.plot(x, jnp.exp(dist.Beta(pbar * theta, (1 - pbar) * theta).log_prob(x)))\n",
        "  plt.gca().set(ylabel=\"Density\", xlabel=\"probability vehicle\", ylim=(0, 3))\n",
        "\n",
        "  # draw 50 beta distributions sampled from posterior\n",
        "  for i in range(200):\n",
        "      p = expit(post[\"a\"][i, gid])\n",
        "      theta = post[\"theta\"][i]\n",
        "      plt.plot(\n",
        "          x, jnp.exp(dist.Beta(p * theta, (1 - p) * theta).log_prob(x)), \"k\", alpha=0.1\n",
        "      )\n",
        "  plt.title(\"distribution of member type\")\n",
        "  plt.show()"
      ],
      "metadata": {
        "id": "zRznm3Qkxfrj"
      },
      "execution_count": null,
      "outputs": []
    },
    {
      "cell_type": "code",
      "source": [
        "post[\"theta\"]"
      ],
      "metadata": {
        "id": "C35rJgsyyHcv"
      },
      "execution_count": null,
      "outputs": []
    },
    {
      "cell_type": "markdown",
      "source": [
        "## Random effect: GP correlated structure"
      ],
      "metadata": {
        "id": "5NnN6dD6UAOV"
      }
    },
    {
      "cell_type": "code",
      "source": [
        "from scipy.spatial import distance_matrix\n",
        "from sklearn.neighbors import DistanceMetric\n",
        "cluster_location = sampled_df[['new_cluster', 'mean_lat', 'mean_lon']].groupby('new_cluster').max()\n",
        "cluster_location['mean_lat'] = np.radians(cluster_location['mean_lat'])\n",
        "cluster_location['mean_lon'] = np.radians(cluster_location['mean_lon'])\n",
        "\n",
        "distance = DistanceMetric.get_metric('haversine')\n",
        "coordinates = cluster_location[['mean_lat','mean_lon']].values\n",
        "cluster_dmat = distance.pairwise(coordinates)*6373\n",
        "#cluster_dmat = distance_matrix(cluster_location, cluster_location, p=2)"
      ],
      "metadata": {
        "id": "7G05h_516klQ"
      },
      "execution_count": null,
      "outputs": []
    },
    {
      "cell_type": "code",
      "source": [
        "dat_list = dict(\n",
        "    vehicle = (sampled_df[\"vehicle_type\"] != 'bike').astype(float).values,\n",
        "    cluster = sampled_df['new_cluster'].values.astype(int),\n",
        "    Dmat = cluster_dmat\n",
        "    \n",
        ")\n",
        "\n",
        "def cov_GPL2(x, sq_eta, sq_rho, sq_sigma):\n",
        "    N = x.shape[0]\n",
        "    K = sq_eta * jnp.exp(-sq_rho * jnp.square(x))\n",
        "    K = K.at[jnp.diag_indices(N)].add(sq_sigma)\n",
        "    return K\n",
        "\n",
        "\n",
        "def model10(Dmat, cluster, vehicle=None):\n",
        "\n",
        "    etasq = numpyro.sample(\"etasq\", dist.Exponential(2))\n",
        "    rhosq = numpyro.sample(\"rhosq\", dist.Exponential(0.5))\n",
        "\n",
        "    #k_bar = numpyro.sample(\"k_bar\", dist.Normal(0, 1.5))\n",
        "    SIGMA = cov_GPL2(Dmat, etasq, rhosq, 0.01)\n",
        "    k = numpyro.sample(\"k\", dist.MultivariateNormal(0, SIGMA))\n",
        "\n",
        "    #a = numpyro.sample(\"a\", dist.Normal(a_bar, sigma), sample_shape= np.array(list(set(cluster))).shape)\n",
        "    logit_p = k[cluster]\n",
        "    numpyro.sample(\"vehicle\", dist.Bernoulli(logits=logit_p), obs=vehicle)\n",
        "\n",
        "m10 = MCMC(NUTS(model10), num_warmup =1000, num_samples=2000, num_chains = 4)\n",
        "m10.run(random.PRNGKey(0), **dat_list)\n",
        "m10.print_summary(0.95)"
      ],
      "metadata": {
        "id": "pHAI_X045PZT"
      },
      "execution_count": null,
      "outputs": []
    },
    {
      "cell_type": "code",
      "source": [
        "az.plot_trace(az.from_numpyro(m10))\n",
        "plt.show()"
      ],
      "metadata": {
        "id": "YPx6_KFuAr82"
      },
      "execution_count": null,
      "outputs": []
    },
    {
      "cell_type": "code",
      "source": [
        "dat_list = dict(\n",
        "    vehicle = (sampled_df[\"vehicle_type\"] != 'bike').astype(float).values,\n",
        "    cluster = sampled_df['new_cluster'].values.astype(int),\n",
        "    Dmat = cluster_dmat\n",
        "    \n",
        ")\n",
        "\n",
        "def cov_GPL2(x, sq_eta, sq_rho, sq_sigma):\n",
        "    N = x.shape[0]\n",
        "    K = sq_eta * jnp.exp(-sq_rho * jnp.square(x))\n",
        "    K = K.at[jnp.diag_indices(N)].add(sq_sigma)\n",
        "    return K\n",
        "\n",
        "\n",
        "def model10(Dmat, cluster, vehicle=None):\n",
        "\n",
        "    etasq = numpyro.sample(\"etasq\", dist.Exponential(2))\n",
        "    rhosq = numpyro.sample(\"rhosq\", dist.Exponential(0.5))\n",
        "\n",
        "    k_bar = numpyro.sample(\"k_bar\", dist.Normal(0, 1.5))\n",
        "    SIGMA = cov_GPL2(Dmat, etasq, rhosq, 0.01)\n",
        "    k = numpyro.sample(\"k\", dist.MultivariateNormal(k_bar, SIGMA))\n",
        "\n",
        "    #a = numpyro.sample(\"a\", dist.Normal(a_bar, sigma), sample_shape= np.array(list(set(cluster))).shape)\n",
        "    logit_p = k[cluster]\n",
        "    numpyro.sample(\"vehicle\", dist.Bernoulli(logits=logit_p), obs=vehicle)\n",
        "\n",
        "m10 = MCMC(NUTS(model10), num_warmup =1000, num_samples=2000, num_chains = 4)\n",
        "m10.run(random.PRNGKey(0), **dat_list)\n",
        "m10.print_summary(0.95)"
      ],
      "metadata": {
        "id": "zGgFrUInFuXh"
      },
      "execution_count": null,
      "outputs": []
    },
    {
      "cell_type": "code",
      "source": [
        "az.plot_trace(az.from_numpyro(m10))\n",
        "plt.show()"
      ],
      "metadata": {
        "id": "5qmyi_Ap_SpL"
      },
      "execution_count": null,
      "outputs": []
    },
    {
      "cell_type": "code",
      "source": [
        "post = m10.get_samples()\n",
        "km_max = 2\n",
        "# plot the posterior median covariance function\n",
        "plt.subplot(\n",
        "    xlabel=\"distance (km)\", ylabel=\"covariance\", xlim=(0, km_max), ylim=(0,1)\n",
        ")\n",
        "\n",
        "# compute posterior mean covariance\n",
        "x_seq = jnp.linspace(0, km_max, km_max*100)\n",
        "pmcov = vmap(lambda x: post[\"etasq\"] * jnp.exp(-post[\"rhosq\"] * x**2))(x_seq)\n",
        "pmcov_mu = jnp.mean(pmcov, 1)\n",
        "plt.plot(x_seq, pmcov_mu, lw=2, c=\"k\")\n",
        "\n",
        "# plot 50 functions sampled from posterior\n",
        "x = x_seq\n",
        "for i in range(100):\n",
        "    plt.plot(\n",
        "        x_seq, post[\"etasq\"][i] * jnp.exp(-post[\"rhosq\"][i] * x**2), \"k\", alpha=0.15\n",
        "    )"
      ],
      "metadata": {
        "id": "DBSbLajQBdq0"
      },
      "execution_count": null,
      "outputs": []
    },
    {
      "cell_type": "markdown",
      "source": [
        "## Random effect: GPL1 correlated structure "
      ],
      "metadata": {
        "id": "o0zsQWp2zxTp"
      }
    },
    {
      "cell_type": "code",
      "source": [
        "dat_list = dict(\n",
        "    vehicle = (sampled_df[\"vehicle_type\"] != 'bike').astype(float).values,\n",
        "    cluster = sampled_df['new_cluster'].values.astype(int),\n",
        "    Dmat = cluster_dmat\n",
        "    \n",
        ")\n",
        "\n",
        "def cov_GPL1(x, sq_eta, sq_rho, sq_sigma):\n",
        "    N = x.shape[0]\n",
        "    K = sq_eta * jnp.exp(-sq_rho * x)\n",
        "    K = K.at[jnp.diag_indices(N)].add(sq_sigma)\n",
        "    return K\n",
        "\n",
        "\n",
        "def model101(Dmat, cluster, vehicle=None):\n",
        "\n",
        "    etasq = numpyro.sample(\"etasq\", dist.Exponential(2))\n",
        "    rhosq = numpyro.sample(\"rhosq\", dist.Exponential(0.5))\n",
        "\n",
        "    k_bar = numpyro.sample(\"k_bar\", dist.Normal(0, 1.5))\n",
        "    SIGMA = cov_GPL1(Dmat, etasq, rhosq, 0.01)\n",
        "    k = numpyro.sample(\"k\", dist.MultivariateNormal(k_bar, SIGMA))\n",
        "\n",
        "    #a = numpyro.sample(\"a\", dist.Normal(a_bar, sigma), sample_shape= np.array(list(set(cluster))).shape)\n",
        "    logit_p = k[cluster]\n",
        "    numpyro.sample(\"vehicle\", dist.Bernoulli(logits=logit_p), obs=vehicle)\n",
        "\n",
        "m101 = MCMC(NUTS(model101), num_warmup =1000, num_samples=2000, num_chains = 4)\n",
        "m101.run(random.PRNGKey(0), **dat_list)\n",
        "m101.print_summary(0.95)"
      ],
      "metadata": {
        "id": "R1xUxlNUx2PI"
      },
      "execution_count": null,
      "outputs": []
    },
    {
      "cell_type": "code",
      "source": [
        "az.plot_trace(az.from_numpyro(m101))\n",
        "plt.show()"
      ],
      "metadata": {
        "id": "kmLYCrzLcTUQ"
      },
      "execution_count": null,
      "outputs": []
    },
    {
      "cell_type": "code",
      "source": [
        "post = m101.get_samples()\n",
        "km_max = 6\n",
        "# plot the posterior median covariance function\n",
        "plt.subplot(\n",
        "    xlabel=\"distance (km)\", ylabel=\"covariance\", xlim=(0, km_max), ylim=(0,1)\n",
        ")\n",
        "\n",
        "# compute posterior mean covariance\n",
        "x_seq = jnp.linspace(0, km_max, km_max*100)\n",
        "pmcov = vmap(lambda x: post[\"etasq\"] * jnp.exp(-post[\"rhosq\"] * x))(x_seq)\n",
        "pmcov_mu = jnp.mean(pmcov, 1)\n",
        "plt.plot(x_seq, pmcov_mu, lw=2, c=\"k\")\n",
        "\n",
        "# plot 50 functions sampled from posterior\n",
        "x = x_seq\n",
        "for i in range(100):\n",
        "    plt.plot(\n",
        "        x_seq, post[\"etasq\"][i] * jnp.exp(-post[\"rhosq\"][i] * x), \"k\", alpha=0.15\n",
        "    )"
      ],
      "metadata": {
        "id": "TzuLHu1wzR7-"
      },
      "execution_count": null,
      "outputs": []
    },
    {
      "cell_type": "markdown",
      "source": [
        "## Mixed Effect: Random intercept and fixed effect for temperature"
      ],
      "metadata": {
        "id": "qw4XSu1z4Z9V"
      }
    },
    {
      "cell_type": "code",
      "source": [
        "dat_list = dict(\n",
        "    vehicle = (sampled_df[\"vehicle_type\"] != 'bike').astype(float).values,\n",
        "    cluster = sampled_df['new_cluster'].values.astype(int),\n",
        "    feelslike = sampled_df.feelslike.values,\n",
        "    wind_speed = sampled_df.wind_speed.values,\n",
        "    km = sampled_df.kilometers.values,\n",
        "    cloudcover = sampled_df.cloudcover.values,\n",
        "    uv_index = sampled_df.uv_index.values,\n",
        "    humidity = sampled_df.humidity.values,\n",
        "    precip = sampled_df.precip.values,\n",
        "    weekday_hour_sin = sampled_df.weekday_hour_sin.values,\n",
        "    weekday_hour_cos = sampled_df.weekday_hour_cos.values,\n",
        "    mahalanobis_dist = sampled_df.mahalanobis_dist.values\n",
        "\n",
        "    \n",
        ")\n",
        "\n",
        "def model11(cluster, weekday_hour_sin, weekday_hour_cos,feelslike, wind_speed,km, precip, humidity, cloudcover, uv_index,mahalanobis_dist, vehicle=None):\n",
        "    a_bar = numpyro.sample(\"a_bar\", dist.Normal(0, 1.5))\n",
        "    sigma = numpyro.sample(\"sigma\", dist.Exponential(1))\n",
        "    a = numpyro.sample(\"a\", dist.Normal(a_bar, sigma), sample_shape= np.array(list(set(cluster))).shape)\n",
        "    bfeels  = numpyro.sample(\"bfeels\", dist.Normal(0, 0.5))\n",
        "    bwspd  = numpyro.sample(\"bwspd\", dist.Normal(0, 0.5))\n",
        "    bkm  = numpyro.sample(\"bkm\", dist.Normal(0, 0.5))\n",
        "    brain  = numpyro.sample(\"brain\", dist.Normal(0, 0.5))\n",
        "    bhum  = numpyro.sample(\"bhum\", dist.Normal(0, 0.5))\n",
        "    buv  = numpyro.sample(\"buv\", dist.Normal(0, 0.5))\n",
        "    bcloud  = numpyro.sample(\"bcloud\", dist.Normal(0, 0.5))\n",
        "    bdist = numpyro.sample(\"bdist\", dist.Normal(0, 0.5))\n",
        "    bweekday_sin = numpyro.sample(\"bweekdaysin\", dist.Normal(0, 0.5))\n",
        "    bweekday_cos = numpyro.sample(\"bweekdaycos\", dist.Normal(0, 0.5))\n",
        "\n",
        "    logit_p = a[cluster]  + bwspd*wind_speed + bfeels*feelslike + bkm*km + + brain*precip + bcloud*cloudcover + buv*uv_index +bhum*humidity + bdist* mahalanobis_dist + bweekday_sin*weekday_hour_sin + bweekday_cos*weekday_hour_cos\n",
        "    numpyro.sample(\"vehicle\", dist.Bernoulli(logits=logit_p), obs=vehicle)\n",
        "\n",
        "m11 = MCMC(NUTS(model11), num_warmup =1000, num_samples=2000, num_chains = 4)\n",
        "m11.run(random.PRNGKey(0), **dat_list)\n",
        "m11.print_summary(0.95)"
      ],
      "metadata": {
        "id": "Gb-AFjfW03Bh"
      },
      "execution_count": null,
      "outputs": []
    },
    {
      "cell_type": "code",
      "source": [
        "az.plot_trace(az.from_numpyro(m11))\n",
        "plt.show()"
      ],
      "metadata": {
        "id": "QlcFcRFZ2hMb"
      },
      "execution_count": null,
      "outputs": []
    },
    {
      "cell_type": "markdown",
      "source": [
        "#Mixed effect: Random intercept with GP covariance plus several fixed effects"
      ],
      "metadata": {
        "id": "_-UFCJIGgHIF"
      }
    },
    {
      "cell_type": "code",
      "source": [
        "dat_list = dict(\n",
        "    vehicle = (sampled_df[\"vehicle_type\"] != 'bike').astype(float).values,\n",
        "    cluster = sampled_df['new_cluster'].values.astype(int),\n",
        "    feelslike = sampled_df.feelslike.values,\n",
        "    wind_speed = sampled_df.wind_speed.values,\n",
        "    km = sampled_df.kilometers.values,\n",
        "    cloudcover = sampled_df.cloudcover.values,\n",
        "    uv_index = sampled_df.uv_index.values,\n",
        "    humidity = sampled_df.humidity.values,\n",
        "    precip = sampled_df.precip.values,\n",
        "    weekday_hour_sin = sampled_df.weekday_hour_sin.values,\n",
        "    weekday_hour_cos = sampled_df.weekday_hour_cos.values,\n",
        "    mahalanobis_dist = sampled_df.mahalanobis_dist.values,\n",
        "    Dmat = cluster_dmat\n",
        "    \n",
        ")\n",
        "\n",
        "def cov_GPL2(x, sq_eta, sq_rho, sq_sigma):\n",
        "    N = x.shape[0]\n",
        "    K = sq_eta * jnp.exp(-sq_rho * jnp.square(x))\n",
        "    K = K.at[jnp.diag_indices(N)].add(sq_sigma)\n",
        "    return K\n",
        "\n",
        "\n",
        "def model12(Dmat, cluster, weekday_hour_sin, weekday_hour_cos,feelslike, wind_speed,km, precip, humidity, cloudcover, uv_index,mahalanobis_dist,vehicle=None):\n",
        "\n",
        "    etasq = numpyro.sample(\"etasq\", dist.Exponential(2))\n",
        "    rhosq = numpyro.sample(\"rhosq\", dist.Exponential(0.5))\n",
        "\n",
        "    k_bar = numpyro.sample(\"k_bar\", dist.Normal(0, 1.5))\n",
        "    SIGMA = cov_GPL2(Dmat, etasq, rhosq, 0.01)\n",
        "    k = numpyro.sample(\"k\", dist.MultivariateNormal(k_bar, SIGMA))\n",
        "    # fixed effects\n",
        "    bfeels  = numpyro.sample(\"bfeels\", dist.Normal(0, 0.5))\n",
        "    bwspd  = numpyro.sample(\"bwspd\", dist.Normal(0, 0.5))\n",
        "    bkm  = numpyro.sample(\"bkm\", dist.Normal(0, 0.5))\n",
        "    brain  = numpyro.sample(\"brain\", dist.Normal(0, 0.5))\n",
        "    bhum  = numpyro.sample(\"bhum\", dist.Normal(0, 0.5))\n",
        "    buv  = numpyro.sample(\"buv\", dist.Normal(0, 0.5))\n",
        "    bcloud  = numpyro.sample(\"bcloud\", dist.Normal(0, 0.5))\n",
        "    bdist = numpyro.sample(\"bdist\", dist.Normal(0, 0.5))\n",
        "    bweekday_sin = numpyro.sample(\"bweekdaysin\", dist.Normal(0, 0.5))\n",
        "    bweekday_cos = numpyro.sample(\"bweekdaycos\", dist.Normal(0, 0.5))\n",
        "    #a = numpyro.sample(\"a\", dist.Normal(a_bar, sigma), sample_shape= np.array(list(set(cluster))).shape)\n",
        "    logit_p = k[cluster] + bwspd*wind_speed + bfeels*feelslike + bkm*km + + brain*precip + bcloud*cloudcover + buv*uv_index +bhum*humidity + bdist* mahalanobis_dist + bweekday_sin*weekday_hour_sin + bweekday_cos*weekday_hour_cos\n",
        "\n",
        "    numpyro.sample(\"vehicle\", dist.Bernoulli(logits=logit_p), obs=vehicle)\n",
        "\n",
        "m12 = MCMC(NUTS(model12), num_warmup =1000, num_samples=2000, num_chains = 4)\n",
        "m12.run(random.PRNGKey(0), **dat_list)\n",
        "m12.print_summary(0.95)"
      ],
      "metadata": {
        "id": "LYTZt_eG2hVe"
      },
      "execution_count": null,
      "outputs": []
    },
    {
      "cell_type": "code",
      "source": [
        "az.plot_trace(az.from_numpyro(m12))\n",
        "plt.show()"
      ],
      "metadata": {
        "id": "d0Us7BX9laS5"
      },
      "execution_count": null,
      "outputs": []
    },
    {
      "cell_type": "code",
      "source": [
        "post = m12.get_samples()\n",
        "km_max = 2\n",
        "# plot the posterior median covariance function\n",
        "plt.subplot(\n",
        "    xlabel=\"distance (km)\", ylabel=\"covariance\", xlim=(0, km_max), ylim=(0,1.1)\n",
        ")\n",
        "\n",
        "# compute posterior mean covariance\n",
        "x_seq = jnp.linspace(0, km_max, km_max*100)\n",
        "pmcov = vmap(lambda x: post[\"etasq\"] * jnp.exp(-post[\"rhosq\"] * x**2))(x_seq)\n",
        "pmcov_mu = jnp.mean(pmcov, 1)\n",
        "plt.plot(x_seq, pmcov_mu, lw=2, c=\"k\")\n",
        "\n",
        "# plot 50 functions sampled from posterior\n",
        "x = x_seq\n",
        "for i in range(100):\n",
        "    plt.plot(\n",
        "        x_seq, post[\"etasq\"][-i] * jnp.exp(-post[\"rhosq\"][-i] * x**2), \"k\", alpha=0.15\n",
        "    )\n"
      ],
      "metadata": {
        "id": "m9T5mW5hxTBT"
      },
      "execution_count": null,
      "outputs": []
    },
    {
      "cell_type": "code",
      "source": [
        "dat_list = dict(\n",
        "    vehicle = (sampled_df[\"vehicle_type\"] != 'bike').astype(float).values,\n",
        "    cluster = sampled_df['new_cluster'].values.astype(int),\n",
        "    feelslike = sampled_df.feelslike.values,\n",
        "    wind_speed = sampled_df.wind_speed.values,\n",
        "    km = sampled_df.kilometers.values,\n",
        "    cloudcover = sampled_df.cloudcover.values,\n",
        "    uv_index = sampled_df.uv_index.values,\n",
        "    humidity = sampled_df.humidity.values,\n",
        "    precip = sampled_df.precip.values,\n",
        "    weekday_hour_sin = sampled_df.weekday_hour_sin.values,\n",
        "    weekday_hour_cos = sampled_df.weekday_hour_cos.values,\n",
        "    mahalanobis_dist = sampled_df.mahalanobis_dist.values,\n",
        "    Dmat = cluster_dmat\n",
        "    \n",
        ")\n",
        "\n",
        "def cov_GPL1(x, sq_eta, sq_rho, sq_sigma):\n",
        "    N = x.shape[0]\n",
        "    K = sq_eta * jnp.exp(-sq_rho * x)\n",
        "    K = K.at[jnp.diag_indices(N)].add(sq_sigma)\n",
        "    return K\n",
        "\n",
        "\n",
        "def model13(Dmat, cluster, weekday_hour_sin, weekday_hour_cos,feelslike, wind_speed,km, precip, humidity, cloudcover, uv_index,mahalanobis_dist, vehicle=None):\n",
        "\n",
        "    etasq = numpyro.sample(\"etasq\", dist.Exponential(2))\n",
        "    rhosq = numpyro.sample(\"rhosq\", dist.Exponential(1.5))\n",
        "\n",
        "    k_bar = numpyro.sample(\"k_bar\", dist.Normal(0, 0.5))\n",
        "    SIGMA = cov_GPL1(Dmat, etasq, rhosq, 0.01)\n",
        "    k = numpyro.sample(\"k\", dist.MultivariateNormal(k_bar, SIGMA))\n",
        "    # fixed effects\n",
        "    bfeels  = numpyro.sample(\"bfeels\", dist.Normal(0, 0.5))\n",
        "    bwspd  = numpyro.sample(\"bwspd\", dist.Normal(0, 0.5))\n",
        "    bkm  = numpyro.sample(\"bkm\", dist.Normal(0, 0.5))\n",
        "    brain  = numpyro.sample(\"brain\", dist.Normal(0, 0.5))\n",
        "    bhum  = numpyro.sample(\"bhum\", dist.Normal(0, 0.5))\n",
        "    buv  = numpyro.sample(\"buv\", dist.Normal(0, 0.5))\n",
        "    bcloud  = numpyro.sample(\"bcloud\", dist.Normal(0, 0.5))\n",
        "    bdist = numpyro.sample(\"bdist\", dist.Normal(0, 0.5))\n",
        "    bweekday_sin = numpyro.sample(\"bweekdaysin\", dist.Normal(0, 0.5))\n",
        "    bweekday_cos = numpyro.sample(\"bweekdaycos\", dist.Normal(0, 0.5))\n",
        "    #a = numpyro.sample(\"a\", dist.Normal(a_bar, sigma), sample_shape= np.array(list(set(cluster))).shape)\n",
        "    logit_p = k[cluster]  + bwspd*wind_speed + bfeels*feelslike + bkm*km + + brain*precip + bcloud*cloudcover + buv*uv_index +bhum*humidity + bdist* mahalanobis_dist + bweekday_sin*weekday_hour_sin + bweekday_cos*weekday_hour_cos\n",
        "\n",
        "    numpyro.sample(\"vehicle\", dist.Bernoulli(logits=logit_p), obs=vehicle)\n",
        "\n",
        "m13 = MCMC(NUTS(model13), num_warmup =1000, num_samples=2000, num_chains = 4)\n",
        "m13.run(random.PRNGKey(0), **dat_list)\n",
        "m13.print_summary(0.95)"
      ],
      "metadata": {
        "id": "2LTi10_CKKbV"
      },
      "execution_count": null,
      "outputs": []
    },
    {
      "cell_type": "code",
      "source": [
        "az.plot_trace(az.from_numpyro(m13))\n",
        "plt.show()"
      ],
      "metadata": {
        "id": "wdN7OfNhSRtZ"
      },
      "execution_count": null,
      "outputs": []
    },
    {
      "cell_type": "code",
      "source": [
        "post = m13.get_samples()\n",
        "km_max =12\n",
        "# plot the posterior median covariance function\n",
        "plt.subplot(\n",
        "    xlabel=\"distance (km)\", ylabel=\"covariance\", xlim=(0, km_max), ylim=(0,2.5)\n",
        ")\n",
        "\n",
        "# compute posterior mean covariance\n",
        "x_seq = jnp.linspace(0, km_max, km_max*100)\n",
        "pmcov = vmap(lambda x: post[\"etasq\"] * jnp.exp(-post[\"rhosq\"] * x))(x_seq)\n",
        "pmcov_mu = jnp.mean(pmcov, 1)\n",
        "plt.plot(x_seq, pmcov_mu, lw=2, c=\"k\")\n",
        "\n",
        "# plot 50 functions sampled from posterior\n",
        "x = x_seq\n",
        "for i in range(100):\n",
        "    plt.plot(\n",
        "        x_seq, post[\"etasq\"][-i] * jnp.exp(-post[\"rhosq\"][-i] * x), \"k\", alpha=0.15\n",
        "    )"
      ],
      "metadata": {
        "id": "wss6tl80So_O"
      },
      "execution_count": null,
      "outputs": []
    },
    {
      "cell_type": "code",
      "source": [
        "az.compare(\n",
        "    {\"m11\": az.from_numpyro(m11), \"m12\": az.from_numpyro(m12),\"m13\": az.from_numpyro(m13) },\n",
        "    ic=\"waic\",\n",
        "    scale=\"deviance\",\n",
        ")"
      ],
      "metadata": {
        "id": "zXpXaqaXyNjS"
      },
      "execution_count": null,
      "outputs": []
    },
    {
      "cell_type": "code",
      "source": [
        "az.plot_trace(az.from_numpyro(m4))\n",
        "plt.show()"
      ],
      "metadata": {
        "id": "o8vUCbwDhrXs"
      },
      "execution_count": null,
      "outputs": []
    },
    {
      "cell_type": "code",
      "source": [],
      "metadata": {
        "id": "TjQxHniMCHmZ"
      },
      "execution_count": null,
      "outputs": []
    }
  ],
  "metadata": {
    "colab": {
      "provenance": [],
      "gpuType": "V100",
      "private_outputs": true,
      "machine_shape": "hm",
      "authorship_tag": "ABX9TyONPDYFLQ/qFELW9+nkjfFj",
      "include_colab_link": true
    },
    "kernelspec": {
      "display_name": "Python 3",
      "name": "python3"
    },
    "language_info": {
      "name": "python"
    },
    "gpuClass": "standard",
    "accelerator": "GPU"
  },
  "nbformat": 4,
  "nbformat_minor": 0
}